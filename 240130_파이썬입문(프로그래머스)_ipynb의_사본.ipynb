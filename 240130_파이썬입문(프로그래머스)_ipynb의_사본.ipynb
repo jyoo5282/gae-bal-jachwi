{
  "nbformat": 4,
  "nbformat_minor": 0,
  "metadata": {
    "colab": {
      "provenance": [],
      "authorship_tag": "ABX9TyMMPKEBpbDHvEpDWAlx+xTu",
      "include_colab_link": true
    },
    "kernelspec": {
      "name": "python3",
      "display_name": "Python 3"
    },
    "language_info": {
      "name": "python"
    }
  },
  "cells": [
    {
      "cell_type": "markdown",
      "metadata": {
        "id": "view-in-github",
        "colab_type": "text"
      },
      "source": [
        "<a href=\"https://colab.research.google.com/github/jyoo5282/gae-bal-jachwi/blob/main/240130_%ED%8C%8C%EC%9D%B4%EC%8D%AC%EC%9E%85%EB%AC%B8(%ED%94%84%EB%A1%9C%EA%B7%B8%EB%9E%98%EB%A8%B8%EC%8A%A4)_ipynb%EC%9D%98_%EC%82%AC%EB%B3%B8.ipynb\" target=\"_parent\"><img src=\"https://colab.research.google.com/assets/colab-badge.svg\" alt=\"Open In Colab\"/></a>"
      ]
    },
    {
      "cell_type": "code",
      "source": [
        "# if와 else, elif 구문\n",
        "\n",
        "\n",
        "mine = \"바위\"\n",
        "yours = \"보\"\n",
        "\n",
        "if mine == yours:\n",
        "    print(\"비김\")\n",
        "else :\n",
        "  if mine == \"가위\" :\n",
        "      if yours == \"보\":\n",
        "        print(\"이겼다\")\n",
        "      else :\n",
        "        print(\"졌다\")\n",
        "  elif mine == \"바위\" :\n",
        "      if yours == \"보\":\n",
        "         print(\"졌다\")\n",
        "      else :\n",
        "         print(\"이겼다\")\n",
        "  elif mine == \"보\":\n",
        "      if yours == \"바위\" :\n",
        "        print(\"이겼다\")\n",
        "      else :\n",
        "        print(\"졌다\")"
      ],
      "metadata": {
        "colab": {
          "base_uri": "https://localhost:8080/"
        },
        "id": "fAMUt-ub6yUa",
        "outputId": "a232ab65-9ceb-48b5-9f44-831c6915d23d"
      },
      "execution_count": null,
      "outputs": [
        {
          "output_type": "stream",
          "name": "stdout",
          "text": [
            "졌다\n"
          ]
        }
      ]
    },
    {
      "cell_type": "code",
      "source": [
        "# 함수 - 매개변수와 실행인자\n",
        "\n",
        "# 근의 공식\n",
        "def print_root(a,b,c): # (a,b,c)는 매개변수 - 함수 정의 때 사용\n",
        "  r1 = (-b + (b ** 2 - 4 * a * c) ** 0.5) / (2 * a)\n",
        "  r2 = (-b - (b ** 2 - 4 * a * c) ** 0.5) / (2 * a)\n",
        "\n",
        "  print('해는 {} 또는 {}'.format(r1, r2))\n",
        "\n",
        "x = 1\n",
        "y = 2\n",
        "z = -8\n",
        "\n",
        "print_root(x,y,z) #(x,y,z)는 실행인자 - 함수 실행 때 사용\n",
        "\n",
        "\n"
      ],
      "metadata": {
        "colab": {
          "base_uri": "https://localhost:8080/"
        },
        "id": "BeuAqWm293Mo",
        "outputId": "92da85c6-8ecb-4632-fcbd-0ea3178a2bfb"
      },
      "execution_count": null,
      "outputs": [
        {
          "output_type": "stream",
          "name": "stdout",
          "text": [
            "해는 2.0 또는 -4.0\n"
          ]
        }
      ]
    },
    {
      "cell_type": "code",
      "source": [
        "def print_round(number): #round는 반올림\n",
        "    rounded = round(number)\n",
        "    print(rounded)\n",
        "\n",
        "print_round(4.6)"
      ],
      "metadata": {
        "colab": {
          "base_uri": "https://localhost:8080/"
        },
        "id": "XTG5txxvGXpW",
        "outputId": "d76e55d9-21a9-4366-dc49-df6332849725"
      },
      "execution_count": null,
      "outputs": [
        {
          "output_type": "stream",
          "name": "stdout",
          "text": [
            "5\n"
          ]
        }
      ]
    },
    {
      "cell_type": "code",
      "source": [
        "# 함수(2)\n",
        "\n",
        "# def는 '함수를 정의한다'는 뜻임. 콜론(:)과 들여쓰기는 '이 뒤에 블럭이 필요하다.'\n",
        "def function ():\n",
        "    print('안녕, 함수!')\n",
        "\n",
        "print() # 파이썬 내장함수\n",
        "print()\n",
        "\n",
        "function() # 지금 직접 만든 함수, 함수의 호출\n",
        "function()\n",
        "function()"
      ],
      "metadata": {
        "colab": {
          "base_uri": "https://localhost:8080/"
        },
        "id": "tD5MXlHe-3dX",
        "outputId": "5246ef58-7073-47b4-f906-899f731e2c9a"
      },
      "execution_count": null,
      "outputs": [
        {
          "output_type": "stream",
          "name": "stdout",
          "text": [
            "\n",
            "\n",
            "안녕, 함수!\n",
            "안녕, 함수!\n",
            "안녕, 함수!\n"
          ]
        }
      ]
    },
    {
      "cell_type": "code",
      "source": [
        "a = 5\n",
        "b = 7\n",
        "\n",
        "result = a + b\n",
        "print(result)\n",
        "\n",
        "def add(a,b):\n",
        "  result=a+b\n",
        "  print(result)"
      ],
      "metadata": {
        "colab": {
          "base_uri": "https://localhost:8080/"
        },
        "id": "PorAMC3RDQH0",
        "outputId": "f0ff5089-4226-4039-f8ca-0b32579cf431"
      },
      "execution_count": null,
      "outputs": [
        {
          "output_type": "stream",
          "name": "stdout",
          "text": [
            "12\n"
          ]
        }
      ]
    },
    {
      "cell_type": "code",
      "source": [
        "a = 5\n",
        "b = 7\n",
        "\n",
        "def add():\n",
        "    print(a+b)\n",
        "\n",
        "add()"
      ],
      "metadata": {
        "colab": {
          "base_uri": "https://localhost:8080/"
        },
        "id": "DvsJZogtDQI9",
        "outputId": "c64e75c3-e310-4a71-e0ca-54afcc6b6623"
      },
      "execution_count": null,
      "outputs": [
        {
          "output_type": "stream",
          "name": "stdout",
          "text": [
            "12\n"
          ]
        }
      ]
    },
    {
      "cell_type": "code",
      "source": [
        "# 함수의 값(1)\n",
        "\n",
        "# value에 10을 더한 값을 돌려주는 함수\n",
        "def add_10(value):\n",
        "    if value < 10:\n",
        "      result = 10\n",
        "    else :\n",
        "      result = value + 10\n",
        "    return result #print대신 return만 쓰면 그 함수가 결과로 나옴. 'n = add_10(42)\n",
        "\n",
        "n = add_10(5)\n",
        "print(n)\n",
        "n = add_10(42)\n",
        "print(n)\n",
        "\n",
        "n = round(1.5)\n",
        "print(n)"
      ],
      "metadata": {
        "colab": {
          "base_uri": "https://localhost:8080/"
        },
        "id": "AgDBwwOmE2Qc",
        "outputId": "63bc4797-d022-4540-902c-d67b8d11d2ce"
      },
      "execution_count": null,
      "outputs": [
        {
          "output_type": "stream",
          "name": "stdout",
          "text": [
            "10\n",
            "52\n",
            "2\n"
          ]
        }
      ]
    },
    {
      "cell_type": "code",
      "source": [
        "# 함수의 값(2)\n",
        "\n",
        "# 근의 공식 -> print 있을 때보다 더 자유로움\n",
        "def root(a,b,c):\n",
        "  r1 = (-b + (b ** 2 - 4 * a * c) ** 0.5) / (2 * a)\n",
        "  r2 = (-b - (b ** 2 - 4 * a * c) ** 0.5) / (2 * a)\n",
        "\n",
        "  return r1, r2\n",
        "\n",
        "x = 1\n",
        "y = 2\n",
        "z = -8\n",
        "\n",
        "r1, r2 = root(x,y,z)\n",
        "print('근은 {} 또는 {}'.format(r1,r2))"
      ],
      "metadata": {
        "colab": {
          "base_uri": "https://localhost:8080/"
        },
        "id": "W1Uwg_LuJ3I3",
        "outputId": "63660d28-91ca-45ac-cb84-a21d7f9f5228"
      },
      "execution_count": null,
      "outputs": [
        {
          "output_type": "stream",
          "name": "stdout",
          "text": [
            "근은 2.0 또는 -4.0\n"
          ]
        }
      ]
    },
    {
      "cell_type": "code",
      "source": [
        "\"\"\"\n",
        "회고 - '혼공얄코' 만 읽은 상태에서 아무리 입문이라지만 바로 강의는 무리였던 것 같다.\n",
        "혼공프로 랑 파이썬 책들을 보니 강의 목차가 좀 중간중간 건너 뛴게 많아서 그럴지도?\n",
        "근데 이 속도를 보니 한달이면 금방 따라잡을 수 있을 것 같다 (는 내생각일수도 ㅎㅎ)\n",
        "\"\"\""
      ],
      "metadata": {
        "id": "U6-f-z21L7xd",
        "colab": {
          "base_uri": "https://localhost:8080/",
          "height": 54
        },
        "outputId": "a22ac6e8-1591-408f-b38e-7892481e1def"
      },
      "execution_count": null,
      "outputs": [
        {
          "output_type": "execute_result",
          "data": {
            "text/plain": [
              "\"\\n회고 - '혼공얄코' 만 읽은 상태에서 아무리 입문이라지만 바로 강의는 무리였던 것 같다.\\n혼공프로 랑 파이썬 책들을 보니 강의 목차가 좀 중간중간 건너 뛴게 많아서 그럴지도?\\n근데 이 속도를 보니 한달이면 금방 따라잡을 수 있을 것 같다 (는 내생각일수도 ㅎㅎ)\\n\""
            ],
            "application/vnd.google.colaboratory.intrinsic+json": {
              "type": "string"
            }
          },
          "metadata": {},
          "execution_count": 2
        }
      ]
    },
    {
      "cell_type": "code",
      "source": [],
      "metadata": {
        "id": "rq_aW5frE2SM"
      },
      "execution_count": null,
      "outputs": []
    }
  ]
}