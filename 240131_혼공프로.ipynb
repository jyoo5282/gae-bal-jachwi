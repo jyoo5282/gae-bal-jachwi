{
  "nbformat": 4,
  "nbformat_minor": 0,
  "metadata": {
    "colab": {
      "provenance": [],
      "authorship_tag": "ABX9TyM7p2Ujr46SPzvd9yQLSKdJ",
      "include_colab_link": true
    },
    "kernelspec": {
      "name": "python3",
      "display_name": "Python 3"
    },
    "language_info": {
      "name": "python"
    }
  },
  "cells": [
    {
      "cell_type": "markdown",
      "metadata": {
        "id": "view-in-github",
        "colab_type": "text"
      },
      "source": [
        "<a href=\"https://colab.research.google.com/github/jyoo5282/gae-bal-jachwi/blob/main/240131_%ED%98%BC%EA%B3%B5%ED%94%84%EB%A1%9C.ipynb\" target=\"_parent\"><img src=\"https://colab.research.google.com/assets/colab-badge.svg\" alt=\"Open In Colab\"/></a>"
      ]
    },
    {
      "cell_type": "code",
      "execution_count": null,
      "metadata": {
        "colab": {
          "base_uri": "https://localhost:8080/"
        },
        "id": "KfzSEKo-Iac3",
        "outputId": "afa31f7e-ff93-48b3-8065-b0a85036db21"
      },
      "outputs": [
        {
          "output_type": "stream",
          "name": "stdout",
          "text": [
            "Hello, World!\n"
          ]
        }
      ],
      "source": [
        "# Replit을 권장했지만 그냥 구글콜랍으로,,\n",
        "\n",
        "print(\"Hello, World!\")"
      ]
    },
    {
      "cell_type": "code",
      "source": [
        "print('\\n\"안녕\\\"이라고 말했다')\n",
        "print(\"혼공\"+\"파\")\n",
        "print(\"*\"*10)\n",
        "print(len(\"77729385439\"))\n",
        "print(\"KE9011111\"[1:3])\n",
        "print(\"KE9011111\"[0:5])\n",
        "print(\"KE9011111\"[2:])"
      ],
      "metadata": {
        "colab": {
          "base_uri": "https://localhost:8080/"
        },
        "id": "TacqcUz9In6a",
        "outputId": "695073c9-466c-4dd5-c84f-94a26982b231"
      },
      "execution_count": null,
      "outputs": [
        {
          "output_type": "stream",
          "name": "stdout",
          "text": [
            "\n",
            "\"안녕\"이라고 말했다\n",
            "혼공파\n",
            "**********\n",
            "11\n",
            "E9\n",
            "KE901\n",
            "9011111\n"
          ]
        }
      ]
    },
    {
      "cell_type": "code",
      "source": [
        "#문자인덱싱\n",
        "print(\"Hello\"[3])"
      ],
      "metadata": {
        "colab": {
          "base_uri": "https://localhost:8080/"
        },
        "id": "EnnGY3FrIq3c",
        "outputId": "b8806d1f-d377-440c-dc05-9118b4bd9995"
      },
      "execution_count": null,
      "outputs": [
        {
          "output_type": "stream",
          "name": "stdout",
          "text": [
            "l\n"
          ]
        }
      ]
    },
    {
      "cell_type": "code",
      "source": [
        "print(\"숫자 데이터(부동 소수점 수 확인 문제\")\n",
        "print(\"=*\"*5 + \"=\")\n",
        "print(323.0 ** 60)\n",
        "print(323.0 // 60)\n",
        "print(323.0 % 60)"
      ],
      "metadata": {
        "colab": {
          "base_uri": "https://localhost:8080/"
        },
        "id": "jtMaBRW5IuFR",
        "outputId": "710ba13d-798b-4dbf-eddf-d8d94475475f"
      },
      "execution_count": null,
      "outputs": [
        {
          "output_type": "stream",
          "name": "stdout",
          "text": [
            "숫자 데이터(부동 소수점 수 확인 문제\n",
            "=*=*=*=*=*=\n",
            "3.5657536863853114e+150\n",
            "5.0\n",
            "23.0\n"
          ]
        }
      ]
    },
    {
      "cell_type": "code",
      "source": [
        "print('\\n')\n",
        "data = \"안녕하세요\"\n",
        "print(data)\n",
        "data = \"만나서 반가워요\"\n",
        "data = \"나한빛입니다\"\n",
        "print(data)"
      ],
      "metadata": {
        "colab": {
          "base_uri": "https://localhost:8080/"
        },
        "id": "lJ7tK8lWIyB2",
        "outputId": "5651cb8a-2981-4aa1-ef55-ad134af80c9e"
      },
      "execution_count": null,
      "outputs": [
        {
          "output_type": "stream",
          "name": "stdout",
          "text": [
            "\n",
            "\n",
            "안녕하세요\n",
            "나한빛입니다\n"
          ]
        }
      ]
    },
    {
      "cell_type": "code",
      "source": [
        "print(2<3)"
      ],
      "metadata": {
        "colab": {
          "base_uri": "https://localhost:8080/"
        },
        "id": "CaMUKFOpI2Y6",
        "outputId": "d6100fee-0585-4daa-e3e4-8699f19c17ec"
      },
      "execution_count": null,
      "outputs": [
        {
          "output_type": "stream",
          "name": "stdout",
          "text": [
            "True\n"
          ]
        }
      ]
    },
    {
      "cell_type": "code",
      "source": [
        "my_age = 20\n",
        "my_money = 10000\n",
        "print(my_age > 19)\n",
        "print(my_money >= 25000)\n",
        "print(my_age >= 19 and my_money >= 25000)"
      ],
      "metadata": {
        "colab": {
          "base_uri": "https://localhost:8080/"
        },
        "id": "eibwVdOjJXU5",
        "outputId": "f665f337-c510-48a5-c328-c0fb4a5534f8"
      },
      "execution_count": null,
      "outputs": [
        {
          "output_type": "stream",
          "name": "stdout",
          "text": [
            "True\n",
            "False\n",
            "False\n"
          ]
        }
      ]
    },
    {
      "cell_type": "code",
      "source": [
        "#03-2. 선택구조를 파이썬으로 코딩하는 방법\n",
        "weather = \"맑음\"\n",
        "print(\"비가 내리는가?\", weather == \"비\")\n",
        "if weather == \"비\":\n",
        "    print(\"우산을 가져간다\")\n",
        "else :\n",
        "    print(\"우산을 가져가지 않는다\")"
      ],
      "metadata": {
        "colab": {
          "base_uri": "https://localhost:8080/"
        },
        "id": "berzllY3l3xx",
        "outputId": "08c1afd0-0be4-4f18-eec4-77501a18c032"
      },
      "execution_count": null,
      "outputs": [
        {
          "output_type": "stream",
          "name": "stdout",
          "text": [
            "비가 내리는가? False\n",
            "우산을 가져가지 않는다\n"
          ]
        }
      ]
    },
    {
      "cell_type": "code",
      "source": [
        "#03-2. p148\n",
        "\n",
        "opening = 54700\n",
        "closing = 55700\n",
        "diff = closing - opening\n",
        "\n",
        "if diff>0:\n",
        "    print('업'+str(diff)) #맥, 구글 코랩에서 화살표 기호 어떻게 넣는지 알려주실 분 ㅠㅜ\n",
        "elif diff<0:\n",
        "    print('다운'+str(abs(diff)))\n",
        "else:\n",
        "    print(\"-\")"
      ],
      "metadata": {
        "colab": {
          "base_uri": "https://localhost:8080/"
        },
        "id": "CXVRpgn8mTJb",
        "outputId": "5e2b9e0f-d6d5-4b6b-e793-86edadc27ef5"
      },
      "execution_count": null,
      "outputs": [
        {
          "output_type": "stream",
          "name": "stdout",
          "text": [
            "업1000\n"
          ]
        }
      ]
    },
    {
      "cell_type": "code",
      "source": [
        "# pass 코드\n",
        "\n",
        "opening = 54700\n",
        "closing = 55700\n",
        "diff = closing - opening\n",
        "\n",
        "if diff > 0:\n",
        "    pass\n",
        "    pass\n",
        "elif diff < 0:\n",
        "    pass\n",
        "    pass\n",
        "else :\n",
        "    pass\n",
        "    print(diff)\n",
        "print(\"종료!\")"
      ],
      "metadata": {
        "colab": {
          "base_uri": "https://localhost:8080/"
        },
        "id": "Our1Hs35rNJ4",
        "outputId": "091512d3-719c-4e54-f276-fe9a142a48d9"
      },
      "execution_count": null,
      "outputs": [
        {
          "output_type": "stream",
          "name": "stdout",
          "text": [
            "종료!\n"
          ]
        }
      ]
    },
    {
      "cell_type": "markdown",
      "source": [
        "\n"
      ],
      "metadata": {
        "id": "6GEIS6WFoh0P"
      }
    },
    {
      "cell_type": "code",
      "source": [
        "# 03-2. 확인문제\n",
        "print(True==True)\n",
        "print(\"abc\">\"ABC\")"
      ],
      "metadata": {
        "colab": {
          "base_uri": "https://localhost:8080/"
        },
        "id": "2noqpexGsd6Q",
        "outputId": "8acd722f-1bf8-4445-a997-5998dbbc0c24"
      },
      "execution_count": null,
      "outputs": [
        {
          "output_type": "stream",
          "name": "stdout",
          "text": [
            "True\n",
            "True\n"
          ]
        }
      ]
    },
    {
      "cell_type": "code",
      "source": [],
      "metadata": {
        "colab": {
          "base_uri": "https://localhost:8080/",
          "height": 144
        },
        "id": "48qatuQCsoWv",
        "outputId": "69ff37ee-56ef-4dd5-a519-da17ac730c2c"
      },
      "execution_count": null,
      "outputs": [
        {
          "output_type": "error",
          "ename": "SyntaxError",
          "evalue": "unterminated string literal (detected at line 1) (<ipython-input-20-79f91e946b3f>, line 1)",
          "traceback": [
            "\u001b[0;36m  File \u001b[0;32m\"<ipython-input-20-79f91e946b3f>\"\u001b[0;36m, line \u001b[0;32m1\u001b[0m\n\u001b[0;31m    print('!)\u001b[0m\n\u001b[0m          ^\u001b[0m\n\u001b[0;31mSyntaxError\u001b[0m\u001b[0;31m:\u001b[0m unterminated string literal (detected at line 1)\n"
          ]
        }
      ]
    },
    {
      "cell_type": "code",
      "source": [
        "yo_price = 1800\n",
        "yo_qty = 4\n",
        "milk_price = 1500\n",
        "milk_qty = 2\n",
        "hr_price = 1000\n",
        "hr_qty = 3\n",
        "\n",
        "yo_sales = yo_price * yo_qty\n",
        "milk_sales = milk_price * milk_qty\n",
        "hr_sales = hr_price * hr_qty\n",
        "\n",
        "total_sales = yo_sales + milk_sales + hr_sales\n",
        "total_qty = yo_qty + milk_qty + hr_qty\n",
        "\n",
        "print(\"드링킹 요구르트 매출액: \" + str(yo_sales))\n",
        "print(\"딸기 우유 매출액: \" + str(milk_sales))\n",
        "print(\"홈런공 매출액: \" + str(hr_sales))\n",
        "print(\"-\"*20)\n",
        "print(\"총매출액: \" + str(total_sales))\n",
        "print(\"총판매량: \" + str(total_qty))\n"
      ],
      "metadata": {
        "colab": {
          "base_uri": "https://localhost:8080/"
        },
        "id": "OjAq7LQ0tfNX",
        "outputId": "3994e19a-8f01-4aec-835a-1999867ec79e"
      },
      "execution_count": null,
      "outputs": [
        {
          "output_type": "stream",
          "name": "stdout",
          "text": [
            "드링킹 요구르트 매출액: 7200\n",
            "딸기 우유 매출액: 3000\n",
            "홈런공 매출액: 3000\n",
            "--------------------\n",
            "총매출액: 13200\n",
            "총판매량: 9\n"
          ]
        }
      ]
    },
    {
      "cell_type": "code",
      "source": [],
      "metadata": {
        "id": "e7FktanbvpkX"
      },
      "execution_count": null,
      "outputs": []
    }
  ]
}