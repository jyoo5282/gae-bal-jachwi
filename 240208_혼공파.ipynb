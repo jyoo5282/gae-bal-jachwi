{
  "nbformat": 4,
  "nbformat_minor": 0,
  "metadata": {
    "colab": {
      "provenance": [],
      "authorship_tag": "ABX9TyOKU70Vxe4kCkQdsPRLOZts",
      "include_colab_link": true
    },
    "kernelspec": {
      "name": "python3",
      "display_name": "Python 3"
    },
    "language_info": {
      "name": "python"
    }
  },
  "cells": [
    {
      "cell_type": "markdown",
      "metadata": {
        "id": "view-in-github",
        "colab_type": "text"
      },
      "source": [
        "<a href=\"https://colab.research.google.com/github/jyoo5282/gae-bal-jachwi/blob/main/240208_%ED%98%BC%EA%B3%B5%ED%8C%8C.ipynb\" target=\"_parent\"><img src=\"https://colab.research.google.com/assets/colab-badge.svg\" alt=\"Open In Colab\"/></a>"
      ]
    },
    {
      "cell_type": "code",
      "execution_count": null,
      "metadata": {
        "id": "r9bQWP9GR_YS",
        "colab": {
          "base_uri": "https://localhost:8080/"
        },
        "outputId": "7ace1d75-7579-4c6c-b77f-e152fd0cc8c2"
      },
      "outputs": [
        {
          "output_type": "stream",
          "name": "stdout",
          "text": [
            "#하나만 출력합니다.\n",
            "Hello Python Programming...!\n",
            "\n",
            "#여러 개를 출력합니다.\n",
            "10 20 30 40 50\n",
            "안녕하세요 저의 이름은 유지은입니다!\n",
            "\n",
            "#아무것도 입력하지 않습니다.\n",
            "--- 확인 전용선 ---\n",
            "\n",
            "\n",
            "--- 확인 전용선 ---\n"
          ]
        }
      ],
      "source": [
        "# 하나만 출력합니다.\n",
        "print(\"#하나만 출력합니다.\")\n",
        "print(\"Hello Python Programming...!\")\n",
        "print()\n",
        "\n",
        "# 여러 개를 출력합니다.\n",
        "print(\"#여러 개를 출력합니다.\")\n",
        "print( 10,20,30, 40, 50)\n",
        "print(\"안녕하세요\", \"저의\", \"이름은\", \"유지은입니다!\")\n",
        "print()\n",
        "\n",
        "# 아무것도 입력하지 않으면 단순하게 줄바꿈 합니다.\n",
        "print(\"#아무것도 입력하지 않습니다.\")\n",
        "print(\"--- 확인 전용선 ---\")\n",
        "print()\n",
        "print()\n",
        "print(\"--- 확인 전용선 ---\")"
      ]
    },
    {
      "cell_type": "code",
      "source": [
        "input(\"인삿말을 입력하세요>\")"
      ],
      "metadata": {
        "colab": {
          "base_uri": "https://localhost:8080/",
          "height": 52
        },
        "id": "Eyn2wAvEiS2C",
        "outputId": "be5f8c86-f194-4ced-be8e-6ad5b59c02d5"
      },
      "execution_count": null,
      "outputs": [
        {
          "name": "stdout",
          "output_type": "stream",
          "text": [
            "인삿말을 입력하세요>안녕하세요\n"
          ]
        },
        {
          "output_type": "execute_result",
          "data": {
            "text/plain": [
              "'안녕하세요'"
            ],
            "application/vnd.google.colaboratory.intrinsic+json": {
              "type": "string"
            }
          },
          "metadata": {},
          "execution_count": 2
        }
      ]
    },
    {
      "cell_type": "code",
      "source": [
        "string = input(\"인사말을 입력하세요>\")\n",
        "\n",
        "print(string)"
      ],
      "metadata": {
        "colab": {
          "base_uri": "https://localhost:8080/"
        },
        "id": "htaZSmndlWiq",
        "outputId": "e15b6864-fd2b-4e6c-e896-72cc8a6cfb10"
      },
      "execution_count": null,
      "outputs": [
        {
          "output_type": "stream",
          "name": "stdout",
          "text": [
            "인사말을 입력하세요>안녕하세요!\n",
            "안녕하세요!\n"
          ]
        }
      ]
    },
    {
      "cell_type": "code",
      "source": [
        "print(type(string))"
      ],
      "metadata": {
        "colab": {
          "base_uri": "https://localhost:8080/"
        },
        "id": "_T9kv1bglsed",
        "outputId": "fb879f83-447f-407b-e852-61bf10b691a9"
      },
      "execution_count": null,
      "outputs": [
        {
          "output_type": "stream",
          "name": "stdout",
          "text": [
            "<class 'str'>\n"
          ]
        }
      ]
    },
    {
      "cell_type": "code",
      "source": [
        "# 입력을 받습니다.\n",
        "string = input(\"입력>\")\n",
        "\n",
        "# 출력합니다.\n",
        "print(\"자료:\", string)\n",
        "print(\"자료형:\", type(string))"
      ],
      "metadata": {
        "colab": {
          "base_uri": "https://localhost:8080/"
        },
        "id": "_EQEFLWOl1jD",
        "outputId": "dedb4fd3-53ea-4847-8138-411f20cee575"
      },
      "execution_count": null,
      "outputs": [
        {
          "output_type": "stream",
          "name": "stdout",
          "text": [
            "입력>123\n",
            "자료: 123\n",
            "자료형: <class 'str'>\n"
          ]
        }
      ]
    },
    {
      "cell_type": "code",
      "source": [
        "string_a = input(\"입력A>\")\n",
        "int_a = int(string_a)\n",
        "\n",
        "string_b = input(\"입력B>\")\n",
        "int_b = int(string_b)\n",
        "\n",
        "print(\"문자열 자료:\", string_a + string_b)\n",
        "print(\"숫자 자료:\", int_a + int_b)"
      ],
      "metadata": {
        "colab": {
          "base_uri": "https://localhost:8080/"
        },
        "id": "ZEkMVF3LmFdA",
        "outputId": "e471d500-06e6-4ec9-972c-199dea57636a"
      },
      "execution_count": null,
      "outputs": [
        {
          "output_type": "stream",
          "name": "stdout",
          "text": [
            "입력A>53\n",
            "입력B>1234\n",
            "문자열 자료: 531234\n",
            "숫자 자료: 1287\n"
          ]
        }
      ]
    },
    {
      "cell_type": "code",
      "source": [
        "output_a = int(\"52\")\n",
        "output_b = float(\"52.273\")\n",
        "\n",
        "print(type(output_a), output_a)\n",
        "print(type(output_b), output_b)"
      ],
      "metadata": {
        "colab": {
          "base_uri": "https://localhost:8080/"
        },
        "id": "RyRs8uE-m4NX",
        "outputId": "4074b71d-fd9a-462e-83c1-0380a5f9cff5"
      },
      "execution_count": null,
      "outputs": [
        {
          "output_type": "stream",
          "name": "stdout",
          "text": [
            "<class 'int'> 52\n",
            "<class 'float'> 52.273\n"
          ]
        }
      ]
    },
    {
      "cell_type": "code",
      "source": [
        "input_a = float(input(\"첫번째 숫자>\"))\n",
        "input_b = float(input(\"두번째 숫자>\"))\n",
        "\n",
        "print(\"덧셈 결과:\", input_a + input_b)\n",
        "print(\"뺄셈 결과:\", input_a - input_b)\n",
        "print(\"곱셈 결과:\", input_a * input_b)\n",
        "print(\"나눗셈 결과:\", input_a / input_b)"
      ],
      "metadata": {
        "colab": {
          "base_uri": "https://localhost:8080/"
        },
        "id": "vSXfHcKnnL1l",
        "outputId": "5172644a-a123-4983-d324-b273327b1af5"
      },
      "execution_count": null,
      "outputs": [
        {
          "output_type": "stream",
          "name": "stdout",
          "text": [
            "첫번째 숫자>34956\n",
            "두번째 숫자>2834\n",
            "덧셈 결과: 37790.0\n",
            "뺄셈 결과: 32122.0\n",
            "곱셈 결과: 99065304.0\n",
            "나눗셈 결과: 12.334509527170077\n"
          ]
        }
      ]
    },
    {
      "cell_type": "code",
      "source": [
        "# inch 단위를 cm 단위로 변경하기\n",
        "\n",
        "# 숫자를 입력받습니다.\n",
        "raw_input = input(\"inch 단위의 숫자를 입력해주세요:\")\n",
        "\n",
        "# 입력받은 데이터를 숫자 자료형으로 변경하고, cm 단위로 변경합니다.\n",
        "inch = int(raw_input)\n",
        "cm = inch * 2.54\n",
        "\n",
        "# 출력합니다.\n",
        "print(inch, \"inch는 cm단위로\", cm, \"cm입니다.\")"
      ],
      "metadata": {
        "colab": {
          "base_uri": "https://localhost:8080/"
        },
        "id": "8pN1YWvengn5",
        "outputId": "6182a231-e851-4257-d726-eb533c6b180c"
      },
      "execution_count": null,
      "outputs": [
        {
          "output_type": "stream",
          "name": "stdout",
          "text": [
            "inch 단위의 숫자를 입력해주세요:2345\n",
            "2345 inch는 cm단위로 5956.3 cm입니다.\n"
          ]
        }
      ]
    },
    {
      "cell_type": "code",
      "source": [
        "# 변수교체 swap\n",
        "a = input(\"문자열 입력>\")\n",
        "b = input(\"문자열 입력>\")\n",
        "\n",
        "print(a,b)\n",
        "c = a\n",
        "a = b\n",
        "b = c\n",
        "print(a,b)"
      ],
      "metadata": {
        "colab": {
          "base_uri": "https://localhost:8080/"
        },
        "id": "rdgy_KsdobSR",
        "outputId": "113c7240-f3c2-46e9-b407-91f92d7e7911"
      },
      "execution_count": null,
      "outputs": [
        {
          "output_type": "stream",
          "name": "stdout",
          "text": [
            "문자열 입력>안녕하세요\n",
            "문자열 입력>아침입니다\n",
            "안녕하세요 아침입니다\n",
            "아침입니다 안녕하세요\n"
          ]
        }
      ]
    },
    {
      "cell_type": "code",
      "source": [
        "# format() 함수로 숫자를 문자열로 변환하기\n",
        "format_a = \"{}만원\".format(5000)\n",
        "format_b = \"파이썬 열공하여 첫 연봉 {}만원 만들기\".format(5000)\n",
        "format_c = \"{} {} {}\".format(3000, 4000, 5000)\n",
        "format_d = \"{} {} {}\".format(1, \"문자열\", True)\n",
        "\n",
        "# 출력하기\n",
        "print(format_a)\n",
        "print(format_b)\n",
        "print(format_c)\n",
        "print(format_d)"
      ],
      "metadata": {
        "colab": {
          "base_uri": "https://localhost:8080/"
        },
        "id": "ZvWdErA3ppDR",
        "outputId": "3cb84dae-217d-48f0-c8ab-99f0b6c08067"
      },
      "execution_count": null,
      "outputs": [
        {
          "output_type": "stream",
          "name": "stdout",
          "text": [
            "5000만원\n",
            "파이썬 열공하여 첫 연봉 5000만원 만들기\n",
            "3000 4000 5000\n",
            "1 문자열 True\n"
          ]
        }
      ]
    },
    {
      "cell_type": "code",
      "source": [
        "# 정수를 특정 칸에 출력하기\n",
        "output_a = \"{:d}\".format(52)  # {:d}는 int 자료형의 정수를 출력하겠다고 직접적으로 지정하는 것임. 따라서 매개변수로 정수만 올 수 있음.\n",
        "\n",
        "# 특정 칸에 출력하기\n",
        "output_b = \"{:5d}\".format(52)\n",
        "output_c = \"{:10d}\".format(52)\n",
        "\n",
        "# 빈칸을 0으로 채우기\n",
        "output_d = \"{:05d}\".format(52)\n",
        "output_e = \"{:05d}\".format(-52)\n",
        "\n",
        "print(\"# 기본\")\n",
        "print(output_a)\n",
        "print(\"# 특정 칸에 출력하기\")\n",
        "print(output_b)\n",
        "print(output_c)\n",
        "print(\"# 빈칸을 0으로 채우기\")\n",
        "print(output_d)\n",
        "print(output_e)"
      ],
      "metadata": {
        "colab": {
          "base_uri": "https://localhost:8080/"
        },
        "id": "eU0_4Fi6qmYZ",
        "outputId": "99caa5c3-a4b9-40b6-fcc6-05d3a952233a"
      },
      "execution_count": null,
      "outputs": [
        {
          "output_type": "stream",
          "name": "stdout",
          "text": [
            "# 기본\n",
            "52\n",
            "# 특정 칸에 출력하기\n",
            "   52\n",
            "        52\n",
            "# 빈칸을 0으로 채우기\n",
            "00052\n",
            "-0052\n"
          ]
        }
      ]
    },
    {
      "cell_type": "code",
      "source": [],
      "metadata": {
        "id": "DTCXDtZzrrKA"
      },
      "execution_count": null,
      "outputs": []
    }
  ]
}