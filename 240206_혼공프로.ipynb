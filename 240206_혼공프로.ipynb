{
  "nbformat": 4,
  "nbformat_minor": 0,
  "metadata": {
    "colab": {
      "provenance": [],
      "authorship_tag": "ABX9TyNxPp2khySUtR2wValCf9Ul",
      "include_colab_link": true
    },
    "kernelspec": {
      "name": "python3",
      "display_name": "Python 3"
    },
    "language_info": {
      "name": "python"
    }
  },
  "cells": [
    {
      "cell_type": "markdown",
      "metadata": {
        "id": "view-in-github",
        "colab_type": "text"
      },
      "source": [
        "<a href=\"https://colab.research.google.com/github/jyoo5282/gae-bal-jachwi/blob/main/240206_%ED%98%BC%EA%B3%B5%ED%94%84%EB%A1%9C.ipynb\" target=\"_parent\"><img src=\"https://colab.research.google.com/assets/colab-badge.svg\" alt=\"Open In Colab\"/></a>"
      ]
    },
    {
      "cell_type": "code",
      "execution_count": null,
      "metadata": {
        "colab": {
          "base_uri": "https://localhost:8080/"
        },
        "id": "FpHhtPCgCv63",
        "outputId": "df46090f-af85-4ebc-8198-cfce51f6663f"
      },
      "outputs": [
        {
          "output_type": "stream",
          "name": "stdout",
          "text": [
            "드링킹 요구르트 매출액:7200\n",
            "딸기 우유 매출액:3000\n",
            "--------------------\n",
            "총매출액:10200\n",
            "총판매량:6\n"
          ]
        }
      ],
      "source": [
        "yo_price = 1800\n",
        "yo_qty = 4\n",
        "milk_price = 1500\n",
        "milk_qty = 2\n",
        "\n",
        "yo_sales = yo_price * yo_qty\n",
        "milk_sales = milk_price * milk_qty\n",
        "\n",
        "total_sales = yo_sales + milk_sales\n",
        "total_qty = yo_qty + milk_qty\n",
        "\n",
        "print(\"드링킹 요구르트 매출액:\" + str(yo_sales))\n",
        "print(\"딸기 우유 매출액:\" + str(milk_sales))\n",
        "print(\"-\" * 20)\n",
        "print(\"총매출액:\" + str(total_sales))\n",
        "print(\"총판매량:\" + str(total_qty))"
      ]
    },
    {
      "cell_type": "code",
      "source": [
        "name_set = [\"드링킹 요구르트\", \"딸기 우유\", \"홈런공\"]\n",
        "price_set = [\"1800, 1500, 1000\"]\n",
        "qty_set = [4, 2, 3]"
      ],
      "metadata": {
        "id": "O1uA0WdqJNP1"
      },
      "execution_count": null,
      "outputs": []
    },
    {
      "cell_type": "code",
      "source": [
        "lang_set = [\"파이썬\", \"C 언어\", \"자바\", \"자바스크립트\"]\n",
        "lang_eng_set = [\"Python\", \"C\", \"Java\", \"Javascript\"]\n",
        "menu_set = [\"안심구이\", \"등심구이\", \"육개장\", \"물냉면\"]\n",
        "price_set = [39000, 35000, 9000, 8000]"
      ],
      "metadata": {
        "id": "sRk3NN-sJyNw"
      },
      "execution_count": null,
      "outputs": []
    },
    {
      "cell_type": "code",
      "source": [
        "yo_qty_1 = [15, 16, 20, 29]\n",
        "yo_qty_2 = [8, 11, 25, 21]\n",
        "yo_qty_3 = [17, 9, 17, 24]\n",
        "\n",
        "print(\"드링킹 요구르트 1월 판매량 합계:\" + str(sum(yo_qty_1)))\n",
        "print(\"드링킹 요구르트 2월 판매량 합계:\" + str(sum(yo_qty_2)))\n",
        "print(\"드링킹 요구르트 3월 판매량 합계:\" + str(sum(yo_qty_3)))"
      ],
      "metadata": {
        "id": "6Lu6DwseKs6n"
      },
      "execution_count": null,
      "outputs": []
    },
    {
      "cell_type": "code",
      "source": [
        "yo_qty_2020 = [\n",
        "    [15,16,20,29],\n",
        "    [8,11,25,21],\n",
        "    [17,9,17, 24]\n",
        "]"
      ],
      "metadata": {
        "id": "ZGTWrSBhLxjR"
      },
      "execution_count": null,
      "outputs": []
    },
    {
      "cell_type": "code",
      "source": [
        "grade = [\"1학년\", \"2학년\", \"3학년\"]\n",
        "subjects = [\"국어\", \"영어\", \"수학\", \"코딩\", \"체육\"]\n",
        "scores = [\n",
        "    [85, none, 60, 95, none],\n",
        "    [90, 80, 70, 95, none],\n",
        "    [95, 85, 75, 100, 100],\n",
        "]"
      ],
      "metadata": {
        "id": "YlV1sfA9QLgQ"
      },
      "execution_count": null,
      "outputs": []
    },
    {
      "cell_type": "code",
      "source": [
        "scores = {\n",
        "    \"1학년\" : [85, none, 60, 95, none],\n",
        "    \"2학년\" : [90, 80, 70, 95, none],\n",
        "    \"3학년\" : [95, 85, 75, 100, 100],\n",
        "}\n",
        "\n",
        "scores = {\n",
        "    \"1학년\" : [\"국어\":85, \"수학\":60, \"코딩\":95],\n",
        "    \"2학년\" : [\"국어\":90, \"영어\":80, \"수학\":70, \"코딩\":95],\n",
        "    \"3학년\" : [\"국어\":95, \"영어\":85, \"수학\":75, \"코딩\":100, \"체육\":100],\n",
        "}\n",
        "\n",
        "scores = {\n",
        "    \"국어\" : [\"1학년\":85, \"2학년\":90, \"3학년\":95],\n",
        "    \"수학\" : [\"1학년\":60, \"2학년\":70, \"3학년\":75],\n",
        "    \"코딩\" : [\"1학년\":95, \"2학년\":95, \"3학년\":100],\n",
        "    \"영어\" : [\"2학년\":80, \"3학년\":85],\n",
        "    \"체육\" : [\"3학년\":100],\n",
        "}"
      ],
      "metadata": {
        "id": "ioylaQ0zQjoE"
      },
      "execution_count": null,
      "outputs": []
    },
    {
      "cell_type": "code",
      "source": [
        "names = [\"삼송전자\", \"하이닉스\"]\n",
        "prices = [\n",
        "    [50800, 49950, 48900, 47300, 45600, 48100],\n",
        "    [82800, 82500, 80600, 80400, 73100, 83100],\n",
        "]\n",
        "\n",
        "print(\"-\" * 15)\n",
        "\n",
        "prices {\n",
        "    \"삼송전자\" : [\"2일\":50800, \"3일\":49950, \"4일\":48900, \"5일\":47300, \"6일\":45600, \"9일\":48100],\n",
        "    \"헤이닉스\" : [\"2일\":82800, \"3일\":82500, \"4일\":80600, \"5일\":80400, \"6일\":73100, \"9일\":83100],\n",
        "}"
      ],
      "metadata": {
        "id": "fKCPl4v6R7mD"
      },
      "execution_count": null,
      "outputs": []
    },
    {
      "cell_type": "code",
      "source": [
        "names = [\"김치찌개\", \"떡볶이\"]\n",
        "recipe = [\n",
        "    [\"돼지고기\",\"김치\",\"마늘\",\"대파\",\"청양고추\"],\n",
        "    [\"떡\",\"설탕\",\"고추장\",\"간장\",\"고춧가루\",\"대파\",\"어묵\"],\n",
        "]\n",
        "\n",
        "recipe = {\n",
        "    \"김치찌개\" : [\"돼지고기, 김치, 마늘, 대파, 청양고추\"],\n",
        "    \"떡볶이\" : [\"떡, 설탕, 고추장, 간장, 고춧가루, 대파, 어묵\"],\n",
        "}"
      ],
      "metadata": {
        "id": "7XF7BRVpTZPV"
      },
      "execution_count": null,
      "outputs": []
    },
    {
      "cell_type": "code",
      "source": [
        "items = {\n",
        "    \"성명(한글)\" : \"나한빛\",\n",
        "    \"성명(영문)\" : \"Na Hanbit\",\n",
        "    \"주소\" : \"서울시 서대문구\"\n",
        "    \"취미 및 특기\" : {\"취미\": \"독서\", \"특기\":\"글쓰기\"},\n",
        "    \"저서\" : {\n",
        "        \"혼공시리즈\" : [\"혼공프로\", \"혼공파\", \"혼공씨\", \"혼공자바\"]\n",
        "        \"이것이 시리즈\" : [\"이것이 데이터 분석이다 with 파이썬\", \"이것이 C언어다\", \"이것이 자바다\"],\n",
        "    },\n",
        "}"
      ],
      "metadata": {
        "id": "_2DGPsUOWFab"
      },
      "execution_count": null,
      "outputs": []
    },
    {
      "cell_type": "code",
      "source": [
        "# if 조건문의 조건식 결괏값에 따라 반복 실행하는 구조\n",
        "count = 1\n",
        "\n",
        "if count<4:\n",
        "  print(str(count)+\"!\")\n",
        "  count = count+1"
      ],
      "metadata": {
        "colab": {
          "base_uri": "https://localhost:8080/"
        },
        "id": "E2x0tQHgOcsH",
        "outputId": "80161911-3788-4352-e904-2b0d0984634f"
      },
      "execution_count": 1,
      "outputs": [
        {
          "output_type": "stream",
          "name": "stdout",
          "text": [
            "1!\n"
          ]
        }
      ]
    },
    {
      "cell_type": "code",
      "source": [
        "count = 1\n",
        "while count < 4:\n",
        "    print(str(count)+\"!\")\n",
        "    count = count + 1"
      ],
      "metadata": {
        "colab": {
          "base_uri": "https://localhost:8080/"
        },
        "id": "dC4Y_D59Q134",
        "outputId": "6f402533-8350-421c-bfeb-3a513fae3790"
      },
      "execution_count": 2,
      "outputs": [
        {
          "output_type": "stream",
          "name": "stdout",
          "text": [
            "1!\n",
            "2!\n",
            "3!\n"
          ]
        }
      ]
    },
    {
      "cell_type": "code",
      "source": [
        "count = 1\n",
        "if count <4:\n",
        "    print(str(count)+\"!\")\n",
        "    count = count +1"
      ],
      "metadata": {
        "colab": {
          "base_uri": "https://localhost:8080/"
        },
        "id": "_LBXHjRfRAeX",
        "outputId": "9766a8d0-5fad-4d09-8ad9-f00c8ef101f2"
      },
      "execution_count": 4,
      "outputs": [
        {
          "output_type": "stream",
          "name": "stdout",
          "text": [
            "1!\n"
          ]
        }
      ]
    },
    {
      "cell_type": "code",
      "source": [
        "count = 3\n",
        "while count >0:\n",
        "    print(count)\n",
        "    count = count-1"
      ],
      "metadata": {
        "colab": {
          "base_uri": "https://localhost:8080/"
        },
        "id": "Bhw_lC7DRXL9",
        "outputId": "414b0012-55e6-4d6e-fe67-ff88e097633d"
      },
      "execution_count": 5,
      "outputs": [
        {
          "output_type": "stream",
          "name": "stdout",
          "text": [
            "3\n",
            "2\n",
            "1\n"
          ]
        }
      ]
    },
    {
      "cell_type": "code",
      "source": [
        "egg_list = [\"달걀1\", \"달걀2\", \"달걀3\"]\n",
        "for egg in egg_list:\n",
        "    print (\"달걀 프라이를 만듭니다.\")"
      ],
      "metadata": {
        "colab": {
          "base_uri": "https://localhost:8080/"
        },
        "id": "H3KkspuKRwXZ",
        "outputId": "5a569bd2-8fa3-4b0f-b817-2ceb7b19d720"
      },
      "execution_count": 6,
      "outputs": [
        {
          "output_type": "stream",
          "name": "stdout",
          "text": [
            "달걀 프라이를 만듭니다.\n",
            "달걀 프라이를 만듭니다.\n",
            "달걀 프라이를 만듭니다.\n"
          ]
        }
      ]
    },
    {
      "cell_type": "code",
      "source": [
        "egg_list = [\"달걀1\", \"달걀2\", \"달걀3\"]\n",
        "for egg in egg_list:\n",
        "    print(egg + \": 달걀 프라이를 만듭니다.\")"
      ],
      "metadata": {
        "colab": {
          "base_uri": "https://localhost:8080/"
        },
        "id": "H9qaD4nUUHLQ",
        "outputId": "288af21c-600b-4abd-f4d0-319505df0acb"
      },
      "execution_count": 7,
      "outputs": [
        {
          "output_type": "stream",
          "name": "stdout",
          "text": [
            "달걀1: 달걀 프라이를 만듭니다.\n",
            "달걀2: 달걀 프라이를 만듭니다.\n",
            "달걀3: 달걀 프라이를 만듭니다.\n"
          ]
        }
      ]
    },
    {
      "cell_type": "code",
      "source": [
        "egg_list = range (3)\n",
        "for egg in egg_list:\n",
        "    print(\"달걀 프라이를 만듭니다.\")"
      ],
      "metadata": {
        "colab": {
          "base_uri": "https://localhost:8080/"
        },
        "id": "XMp8t2fRUUNx",
        "outputId": "be5150cb-eb56-4382-c0ad-d7ace5fb5d7f"
      },
      "execution_count": 8,
      "outputs": [
        {
          "output_type": "stream",
          "name": "stdout",
          "text": [
            "달걀 프라이를 만듭니다.\n",
            "달걀 프라이를 만듭니다.\n",
            "달걀 프라이를 만듭니다.\n"
          ]
        }
      ]
    },
    {
      "cell_type": "code",
      "source": [
        "egg_list = range(3)\n",
        "for egg in egg_list:\n",
        "    print(str(egg) + \": 달걀 프라이를 만듭니다.\")"
      ],
      "metadata": {
        "colab": {
          "base_uri": "https://localhost:8080/"
        },
        "id": "wM_9uOrsU8S0",
        "outputId": "c692c5b6-eea3-49a9-d28a-e9e76f3c3e8b"
      },
      "execution_count": 9,
      "outputs": [
        {
          "output_type": "stream",
          "name": "stdout",
          "text": [
            "0: 달걀 프라이를 만듭니다.\n",
            "1: 달걀 프라이를 만듭니다.\n",
            "2: 달걀 프라이를 만듭니다.\n"
          ]
        }
      ]
    },
    {
      "cell_type": "code",
      "source": [
        "egg_list = range(15)\n",
        "for egg in egg_list:\n",
        "    print(str(egg) + \": 달걀 프라이를 만듭니다.\")"
      ],
      "metadata": {
        "colab": {
          "base_uri": "https://localhost:8080/"
        },
        "id": "8oZ0Jc_HVKA3",
        "outputId": "37aa6fa9-5524-49d4-f120-6d9c417ba017"
      },
      "execution_count": 12,
      "outputs": [
        {
          "output_type": "stream",
          "name": "stdout",
          "text": [
            "0: 달걀 프라이를 만듭니다.\n",
            "1: 달걀 프라이를 만듭니다.\n",
            "2: 달걀 프라이를 만듭니다.\n",
            "3: 달걀 프라이를 만듭니다.\n",
            "4: 달걀 프라이를 만듭니다.\n",
            "5: 달걀 프라이를 만듭니다.\n",
            "6: 달걀 프라이를 만듭니다.\n",
            "7: 달걀 프라이를 만듭니다.\n",
            "8: 달걀 프라이를 만듭니다.\n",
            "9: 달걀 프라이를 만듭니다.\n",
            "10: 달걀 프라이를 만듭니다.\n",
            "11: 달걀 프라이를 만듭니다.\n",
            "12: 달걀 프라이를 만듭니다.\n",
            "13: 달걀 프라이를 만듭니다.\n",
            "14: 달걀 프라이를 만듭니다.\n"
          ]
        }
      ]
    },
    {
      "cell_type": "code",
      "source": [
        "count = range(3)\n",
        "for n in count:\n",
        "    print(str(n+1)+\"!\")"
      ],
      "metadata": {
        "colab": {
          "base_uri": "https://localhost:8080/"
        },
        "id": "xSNg0nvWVS6P",
        "outputId": "31ee7de9-5705-42ca-9461-11d1fc5f6421"
      },
      "execution_count": 13,
      "outputs": [
        {
          "output_type": "stream",
          "name": "stdout",
          "text": [
            "1!\n",
            "2!\n",
            "3!\n"
          ]
        }
      ]
    },
    {
      "cell_type": "code",
      "source": [
        "count = range(3)\n",
        "for n in count:\n",
        "    print(str(n+1)+\"!\")\n",
        "    break\n",
        "    print(\"이후의 코드는 처리되지 않습니다.\")"
      ],
      "metadata": {
        "colab": {
          "base_uri": "https://localhost:8080/"
        },
        "id": "WVy59yuXWk1v",
        "outputId": "1ec50119-14df-49bf-ff5a-77f22dcf28ab"
      },
      "execution_count": 15,
      "outputs": [
        {
          "output_type": "stream",
          "name": "stdout",
          "text": [
            "1!\n"
          ]
        }
      ]
    },
    {
      "cell_type": "code",
      "source": [
        "count = range(30)\n",
        "for n in count:\n",
        "    print(str(n+1)+\"!\")\n",
        "    if(n+1) == 3:\n",
        "        print(\"그만!\")\n",
        "        break"
      ],
      "metadata": {
        "colab": {
          "base_uri": "https://localhost:8080/"
        },
        "id": "XMgaTI0ceBjO",
        "outputId": "037bd7ab-6132-41ee-fb45-a90b7a9bf7fb"
      },
      "execution_count": 16,
      "outputs": [
        {
          "output_type": "stream",
          "name": "stdout",
          "text": [
            "1!\n",
            "2!\n",
            "3!\n",
            "그만!\n"
          ]
        }
      ]
    },
    {
      "cell_type": "code",
      "source": [
        "count = range(10)\n",
        "for n in count :\n",
        "    if (n+1) % 3!= 0:\n",
        "        continue\n",
        "    print(str(n+1)+\"!\")"
      ],
      "metadata": {
        "colab": {
          "base_uri": "https://localhost:8080/"
        },
        "id": "p6VG2zEhebfl",
        "outputId": "2cf03c5d-d567-4d21-e7b0-f10b2c9559fe"
      },
      "execution_count": 17,
      "outputs": [
        {
          "output_type": "stream",
          "name": "stdout",
          "text": [
            "3!\n",
            "6!\n",
            "9!\n"
          ]
        }
      ]
    },
    {
      "cell_type": "code",
      "source": [
        "count = 5\n",
        "while count >= 0:\n",
        "    print(str(count)+\"!\")\n",
        "    count = count - 1"
      ],
      "metadata": {
        "colab": {
          "base_uri": "https://localhost:8080/"
        },
        "id": "jnzfH_FZfuYR",
        "outputId": "68f21bdb-2028-4224-e572-6f777e6940e5"
      },
      "execution_count": 18,
      "outputs": [
        {
          "output_type": "stream",
          "name": "stdout",
          "text": [
            "5!\n",
            "4!\n",
            "3!\n",
            "2!\n",
            "1!\n",
            "0!\n"
          ]
        }
      ]
    },
    {
      "cell_type": "code",
      "source": [
        "count = [5,4,3,2,1]\n",
        "for x in count:\n",
        "    print(str(x)+\"!\")"
      ],
      "metadata": {
        "colab": {
          "base_uri": "https://localhost:8080/"
        },
        "id": "hStLEtEFg69z",
        "outputId": "2d4dc008-d1d5-4190-8b07-99d4b75ccf99"
      },
      "execution_count": 19,
      "outputs": [
        {
          "output_type": "stream",
          "name": "stdout",
          "text": [
            "5!\n",
            "4!\n",
            "3!\n",
            "2!\n",
            "1!\n"
          ]
        }
      ]
    },
    {
      "cell_type": "code",
      "source": [
        "count = range(10)\n",
        "for n in count :\n",
        "    if (n+1) % 3 == 0 :\n",
        "        print(\"짝!\")\n",
        "    else :\n",
        "        print(n+1)"
      ],
      "metadata": {
        "colab": {
          "base_uri": "https://localhost:8080/"
        },
        "id": "h7e-wHqghDkC",
        "outputId": "cb941674-c999-4e22-abfd-5033f8fcbbac"
      },
      "execution_count": 20,
      "outputs": [
        {
          "output_type": "stream",
          "name": "stdout",
          "text": [
            "1\n",
            "2\n",
            "짝!\n",
            "4\n",
            "5\n",
            "짝!\n",
            "7\n",
            "8\n",
            "짝!\n",
            "10\n"
          ]
        }
      ]
    },
    {
      "cell_type": "code",
      "source": [
        "words = [\"혼자\", \"공부하는\", \"첫\", \"프로그래밍\", \"!\"]\n",
        "for x in words:\n",
        "    if x ==\"첫\":\n",
        "        print(\"첫 프로그래밍!\")\n",
        "        break\n",
        "    print(x)"
      ],
      "metadata": {
        "colab": {
          "base_uri": "https://localhost:8080/"
        },
        "id": "90cP2fd5hSwg",
        "outputId": "22ee3f88-58d9-49c5-bfec-31049e939977"
      },
      "execution_count": 21,
      "outputs": [
        {
          "output_type": "stream",
          "name": "stdout",
          "text": [
            "혼자\n",
            "공부하는\n",
            "첫 프로그래밍!\n"
          ]
        }
      ]
    },
    {
      "cell_type": "code",
      "source": [
        "count = range(20)\n",
        "for x in count :\n",
        "    if ((x+1)%10) != 0:\n",
        "        continue\n",
        "    print(str(x+1)+\"!\")"
      ],
      "metadata": {
        "colab": {
          "base_uri": "https://localhost:8080/"
        },
        "id": "zUQmcNlxhk8E",
        "outputId": "fae12ee6-e207-4892-8f4c-5cc28ba45058"
      },
      "execution_count": 22,
      "outputs": [
        {
          "output_type": "stream",
          "name": "stdout",
          "text": [
            "10!\n",
            "20!\n"
          ]
        }
      ]
    },
    {
      "cell_type": "code",
      "source": [
        "string = \"혼공족\"\n",
        "for char in string:\n",
        "    print(char)"
      ],
      "metadata": {
        "colab": {
          "base_uri": "https://localhost:8080/"
        },
        "id": "6Ozr5Vuqh1aT",
        "outputId": "c62712f6-c4e5-4d49-ad12-38e477403477"
      },
      "execution_count": 23,
      "outputs": [
        {
          "output_type": "stream",
          "name": "stdout",
          "text": [
            "혼\n",
            "공\n",
            "족\n"
          ]
        }
      ]
    },
    {
      "cell_type": "code",
      "source": [
        "book_list = [\"혼자 공부하는 첫 프로그래밍\", \"혼자 공부하는 파이썬\"]\n",
        "for book in book_list:\n",
        "    print(book)"
      ],
      "metadata": {
        "colab": {
          "base_uri": "https://localhost:8080/"
        },
        "id": "dTmCt4IFn9ic",
        "outputId": "fec3fb80-479a-4b1a-bbf9-a6a8fe1fc26d"
      },
      "execution_count": 24,
      "outputs": [
        {
          "output_type": "stream",
          "name": "stdout",
          "text": [
            "혼자 공부하는 첫 프로그래밍\n",
            "혼자 공부하는 파이썬\n"
          ]
        }
      ]
    },
    {
      "cell_type": "code",
      "source": [
        "# 여러개의 리스트를 하나의 for 반복문으로 처리하는 방법\n",
        "name_set = [\"드링킹 요구르트\", \"딸기 우유\"]\n",
        "price_set = [1800, 1500]\n",
        "qty_st = [4,2]\n",
        "\n",
        "#데이터 세트의 데이터 개수만큼 반복 처리하는 for 반복문 추가\n",
        "\"\"\"\n",
        "for 인덱스를 저장할 변수 in [0,1]\n",
        "    반복처리할 코드\n",
        "\"\"\"\n",
        "name = name_set[0]\n",
        "sales = price_set[0]*qty_set[0]\n",
        "print(name + \"매출액:\" + str(sales))\n",
        "\n",
        "name = name_set[1]\n",
        "sales = price_set[1]*qty_set[1]\n",
        "print(name + \"매출액:\" + str(sales))"
      ],
      "metadata": {
        "colab": {
          "base_uri": "https://localhost:8080/",
          "height": 242
        },
        "id": "pwEjzkz_oLaP",
        "outputId": "b9985b92-c111-4add-e493-8bc6d7f74009"
      },
      "execution_count": 25,
      "outputs": [
        {
          "output_type": "error",
          "ename": "NameError",
          "evalue": "name '상품명' is not defined",
          "traceback": [
            "\u001b[0;31m---------------------------------------------------------------------------\u001b[0m",
            "\u001b[0;31mNameError\u001b[0m                                 Traceback (most recent call last)",
            "\u001b[0;32m<ipython-input-25-7b99556820af>\u001b[0m in \u001b[0;36m<cell line: 7>\u001b[0;34m()\u001b[0m\n\u001b[1;32m      5\u001b[0m \u001b[0;34m\u001b[0m\u001b[0m\n\u001b[1;32m      6\u001b[0m \u001b[0;31m#데이터 세트의 데이터 개수만큼 반복 처리하는 for 반복문 추가\u001b[0m\u001b[0;34m\u001b[0m\u001b[0;34m\u001b[0m\u001b[0m\n\u001b[0;32m----> 7\u001b[0;31m \u001b[0mname\u001b[0m \u001b[0;34m=\u001b[0m \u001b[0m상품명\u001b[0m\u001b[0;34m\u001b[0m\u001b[0;34m\u001b[0m\u001b[0m\n\u001b[0m\u001b[1;32m      8\u001b[0m \u001b[0msales\u001b[0m \u001b[0;34m=\u001b[0m \u001b[0m가격\u001b[0m\u001b[0;34m*\u001b[0m\u001b[0m판매량\u001b[0m\u001b[0;34m\u001b[0m\u001b[0;34m\u001b[0m\u001b[0m\n\u001b[1;32m      9\u001b[0m \u001b[0mprint\u001b[0m\u001b[0;34m(\u001b[0m\u001b[0mname\u001b[0m \u001b[0;34m+\u001b[0m \u001b[0;34m\"매출액:\"\u001b[0m \u001b[0;34m+\u001b[0m \u001b[0mstr\u001b[0m\u001b[0;34m(\u001b[0m\u001b[0msales\u001b[0m\u001b[0;34m)\u001b[0m\u001b[0;34m)\u001b[0m\u001b[0;34m\u001b[0m\u001b[0;34m\u001b[0m\u001b[0m\n",
            "\u001b[0;31mNameError\u001b[0m: name '상품명' is not defined"
          ]
        }
      ]
    },
    {
      "cell_type": "code",
      "source": [
        "name_set= [\"드링킹 요구르트\", \"딸기 우유\"]\n",
        "print(name_set[0])\n",
        "print(name_set[1])"
      ],
      "metadata": {
        "colab": {
          "base_uri": "https://localhost:8080/"
        },
        "id": "2JpFYAP-ozZ8",
        "outputId": "68d798ac-7e86-431f-df47-b896e932de69"
      },
      "execution_count": 27,
      "outputs": [
        {
          "output_type": "stream",
          "name": "stdout",
          "text": [
            "드링킹 요구르트\n",
            "딸기 우유\n"
          ]
        }
      ]
    },
    {
      "cell_type": "code",
      "source": [
        "name_set = [\"드링킹 요구르트\", \"딸기 우유\"]\n",
        "price_set = [1800, 1500]\n",
        "qty_set = [4,2]\n",
        "\n",
        "for i in [0,1]:\n",
        "    name = name_set[i]\n",
        "    sales = price_set[i] * qty_set[i]\n",
        "    print(name + \"매출액:\" + str(sales))"
      ],
      "metadata": {
        "colab": {
          "base_uri": "https://localhost:8080/"
        },
        "id": "WIa2e0frpyIe",
        "outputId": "325a4c3e-fe80-49f8-b9f6-b75d976ebd28"
      },
      "execution_count": 29,
      "outputs": [
        {
          "output_type": "stream",
          "name": "stdout",
          "text": [
            "드링킹 요구르트매출액:7200\n",
            "딸기 우유매출액:3000\n"
          ]
        }
      ]
    },
    {
      "cell_type": "code",
      "source": [
        "name_set = [\"드링킹 요구르트\", \"딸기 우유\", \"홈런공\"]\n",
        "price_set = [1800, 1500, 1000]\n",
        "qty_set = [4,2, 3]\n",
        "\n",
        "for i in [0,1, 2]:\n",
        "    name = name_set[i]\n",
        "    sales = price_set[i] * qty_set[i]\n",
        "    print(name + \"매출액:\" + str(sales))"
      ],
      "metadata": {
        "colab": {
          "base_uri": "https://localhost:8080/"
        },
        "id": "1GPkihA1qz65",
        "outputId": "c1192159-8bf3-47f8-a032-f30656d61a00"
      },
      "execution_count": 30,
      "outputs": [
        {
          "output_type": "stream",
          "name": "stdout",
          "text": [
            "드링킹 요구르트매출액:7200\n",
            "딸기 우유매출액:3000\n",
            "홈런공매출액:3000\n"
          ]
        }
      ]
    },
    {
      "cell_type": "code",
      "source": [
        "name_set = [\"드링킹 요구르트\", \"딸기 우유\", \"홈런공\"]\n",
        "for i in [0,1,2]:\n",
        "    print(name_set[i])\n",
        "\n",
        "print(\"-\"*10)\n",
        "\n",
        "name_set = [\"드링킹 요구르트\", \"딸기 우유\", \"홈런공\"]\n",
        "for i in range(3):\n",
        "    print(name_set[i])"
      ],
      "metadata": {
        "colab": {
          "base_uri": "https://localhost:8080/"
        },
        "id": "Cm6o0whowq20",
        "outputId": "30ec51f2-9db7-4f64-fc04-0c0589b4d5aa"
      },
      "execution_count": 31,
      "outputs": [
        {
          "output_type": "stream",
          "name": "stdout",
          "text": [
            "드링킹 요구르트\n",
            "딸기 우유\n",
            "홈런공\n",
            "----------\n",
            "드링킹 요구르트\n",
            "딸기 우유\n",
            "홈런공\n"
          ]
        }
      ]
    },
    {
      "cell_type": "code",
      "source": [
        "book_list = [\"혼자 공부하는 첫 프로그래밍\", \"혼자 공부하는 파이썬\"]\n",
        "print(len(book_list))\n",
        "\n",
        "count_down = [10, 9, 8, 7,6,5,4,3,2,1]\n",
        "print(len(count_down))"
      ],
      "metadata": {
        "colab": {
          "base_uri": "https://localhost:8080/"
        },
        "id": "O65wnxLDxYVi",
        "outputId": "f4d0f794-e5bf-49ec-f296-941ec1a64c16"
      },
      "execution_count": 32,
      "outputs": [
        {
          "output_type": "stream",
          "name": "stdout",
          "text": [
            "2\n",
            "10\n"
          ]
        }
      ]
    },
    {
      "cell_type": "code",
      "source": [
        "name_set = [\"드링킹 요구르트\", \"딸기 우유\"]\n",
        "price_set = [1800, 1500]\n",
        "qty_set = [4,2]\n",
        "\n",
        "for i in range(len(name_set)):\n",
        "    name = name_set[i]\n",
        "    sales = price_set[i]*qty_set[i]\n",
        "    print(name + \"매출액:\"+str(sales))"
      ],
      "metadata": {
        "colab": {
          "base_uri": "https://localhost:8080/"
        },
        "id": "Pnr374XsxkCW",
        "outputId": "59c51ee9-454f-427a-9939-f5a6775abd70"
      },
      "execution_count": 33,
      "outputs": [
        {
          "output_type": "stream",
          "name": "stdout",
          "text": [
            "드링킹 요구르트매출액:7200\n",
            "딸기 우유매출액:3000\n"
          ]
        }
      ]
    },
    {
      "cell_type": "code",
      "source": [
        "name_set = [\"드링킹 요구르트\", \"딸기 우유\", \"홈런공\"]\n",
        "price_set = [1800, 1500, 1000]\n",
        "qty_set = [4,2, 3]\n",
        "\n",
        "for i in range(len(name_set)):\n",
        "    name = name_set[i]\n",
        "    sales = price_set[i]*qty_set[i]\n",
        "    print(name + \"매출액:\"+str(sales))"
      ],
      "metadata": {
        "colab": {
          "base_uri": "https://localhost:8080/"
        },
        "id": "d4rBQvnByT3e",
        "outputId": "11136110-0784-4123-96e8-94baa103eb63"
      },
      "execution_count": 34,
      "outputs": [
        {
          "output_type": "stream",
          "name": "stdout",
          "text": [
            "드링킹 요구르트매출액:7200\n",
            "딸기 우유매출액:3000\n",
            "홈런공매출액:3000\n"
          ]
        }
      ]
    },
    {
      "cell_type": "code",
      "source": [
        "book_list = [\"혼자 공부하는 첫 프로그래밍\", \"혼자 공부하는 파이썬\"]\n",
        "print(book_list[0])\n",
        "print(book_list[1])\n",
        "\n",
        "book_dict = {\"입문자용\": \"혼자 공부하는 첫 프로그래밍\", \"초보자용\": \"혼자 공부하는 파이썬\"}\n",
        "print(book_dict[\"입문자용\"])\n",
        "print(book_dict[\"초보자용\"])"
      ],
      "metadata": {
        "colab": {
          "base_uri": "https://localhost:8080/"
        },
        "id": "x6kuIWCNydaN",
        "outputId": "48d3f5b1-19c0-4dd1-e41c-0c52b3578fc1"
      },
      "execution_count": 35,
      "outputs": [
        {
          "output_type": "stream",
          "name": "stdout",
          "text": [
            "혼자 공부하는 첫 프로그래밍\n",
            "혼자 공부하는 파이썬\n",
            "혼자 공부하는 첫 프로그래밍\n",
            "혼자 공부하는 파이썬\n"
          ]
        }
      ]
    },
    {
      "cell_type": "code",
      "source": [
        "book_list = [\"혼자 공부하는 첫 프로그래밍\", \"혼자 공부하는 파이썬\"]\n",
        "for book in book_list:\n",
        "    print(book)\n",
        "\n",
        "print(\"-\"*10)\n",
        "\n",
        "book_dict = {\n",
        "    \"입문자용\" : \"혼자 공부하는 첫 프로그래밍\",\n",
        "    \"초보자용\" : \"혼자 공부하는 파이썬\",\n",
        "}\n",
        "for book in book_dict:\n",
        "    print(book)\n",
        "\n",
        "print(\"-\"*10)\n",
        "\n",
        "book_dict = {\n",
        "    \"입문자용\": \"혼자 공부하는 첫 프로그래밍\",\n",
        "    \"초보자용\": \"혼자 공부하는 파이썬\",\n",
        "}\n",
        "for book in book_dict:\n",
        "    print(book_dict[book])"
      ],
      "metadata": {
        "colab": {
          "base_uri": "https://localhost:8080/"
        },
        "id": "1Kxm5xV2zu_6",
        "outputId": "80755251-e55a-430e-c9ef-2bdca8e7e56b"
      },
      "execution_count": 37,
      "outputs": [
        {
          "output_type": "stream",
          "name": "stdout",
          "text": [
            "혼자 공부하는 첫 프로그래밍\n",
            "혼자 공부하는 파이썬\n",
            "----------\n",
            "입문자용\n",
            "초보자용\n",
            "----------\n",
            "혼자 공부하는 첫 프로그래밍\n",
            "혼자 공부하는 파이썬\n"
          ]
        }
      ]
    },
    {
      "cell_type": "code",
      "source": [
        "mos_qty = {\n",
        "    \"2020년6월\": [9,5,14,8],\n",
        "    \"2020년7월\": [15,6,17,15],\n",
        "    \"2020년8월\": [26,18,26,10]\n",
        "}\n",
        "\n",
        "for month in mos_qty:\n",
        "    total = sum(mos_qty[month])\n",
        "    print(month + \"판매량:\"+str(total))"
      ],
      "metadata": {
        "colab": {
          "base_uri": "https://localhost:8080/"
        },
        "id": "It_xG8W-0MsJ",
        "outputId": "95d95e0a-d097-49c9-cda2-c23e8a3bcee0"
      },
      "execution_count": 39,
      "outputs": [
        {
          "output_type": "stream",
          "name": "stdout",
          "text": [
            "2020년6월판매량:36\n",
            "2020년7월판매량:53\n",
            "2020년8월판매량:80\n"
          ]
        }
      ]
    },
    {
      "cell_type": "code",
      "source": [
        "coffee = \"플랫화이트\"\n",
        "for x in coffee:\n",
        "    print(x)"
      ],
      "metadata": {
        "colab": {
          "base_uri": "https://localhost:8080/"
        },
        "id": "Alr-0GG01x1G",
        "outputId": "4a215aba-c30f-47d8-ab4b-63bef1ca0c12"
      },
      "execution_count": 40,
      "outputs": [
        {
          "output_type": "stream",
          "name": "stdout",
          "text": [
            "플\n",
            "랫\n",
            "화\n",
            "이\n",
            "트\n"
          ]
        }
      ]
    },
    {
      "cell_type": "code",
      "source": [
        "count = [1,2,3,4,5,6,7,8,9,10]\n",
        "for x in count:\n",
        "    if x % 2 ==0:\n",
        "        print(str(x)+\"!\")"
      ],
      "metadata": {
        "colab": {
          "base_uri": "https://localhost:8080/"
        },
        "id": "2ezn8Mog2CYF",
        "outputId": "63f52483-4e5d-495e-9fba-50c7d3332723"
      },
      "execution_count": 41,
      "outputs": [
        {
          "output_type": "stream",
          "name": "stdout",
          "text": [
            "2!\n",
            "4!\n",
            "6!\n",
            "8!\n",
            "10!\n"
          ]
        }
      ]
    },
    {
      "cell_type": "code",
      "source": [
        "five = range(5)\n",
        "for x in five :\n",
        "    print((x+1)*3)"
      ],
      "metadata": {
        "colab": {
          "base_uri": "https://localhost:8080/"
        },
        "id": "td_YjnS_2Ol7",
        "outputId": "e25e49a3-b78f-467f-ded0-03031a383416"
      },
      "execution_count": 42,
      "outputs": [
        {
          "output_type": "stream",
          "name": "stdout",
          "text": [
            "3\n",
            "6\n",
            "9\n",
            "12\n",
            "15\n"
          ]
        }
      ]
    },
    {
      "cell_type": "code",
      "source": [
        "order = [\"아메리카노\", \"플랫화이트\", \"화이트 초콜릿 모카\"]\n",
        "price = [3100, 4100, 4600]\n",
        "for x in range(3):\n",
        "    print(order[x]+\":\"+str(price[x]))"
      ],
      "metadata": {
        "colab": {
          "base_uri": "https://localhost:8080/"
        },
        "id": "PPFcWz8g2bZH",
        "outputId": "e2880ec2-d6c9-4d70-fd62-93ed4f8a695d"
      },
      "execution_count": 44,
      "outputs": [
        {
          "output_type": "stream",
          "name": "stdout",
          "text": [
            "아메리카노:3100\n",
            "플랫화이트:4100\n",
            "화이트 초콜릿 모카:4600\n"
          ]
        }
      ]
    },
    {
      "cell_type": "code",
      "source": [
        "order = [\"아메리카노\", \"플랫 화이트\", \"화이트 초콜릿 모카\"]\n",
        "price = {\n",
        "    \"아메리카노\": 3100,\n",
        "    \"플랫 화이트\": 4100,\n",
        "    \"화이트 초콜릿 모카\": 4600\n",
        "}\n",
        "\n",
        "for x in order:\n",
        "    print(x + \":\" +str(price[x]))"
      ],
      "metadata": {
        "colab": {
          "base_uri": "https://localhost:8080/"
        },
        "id": "Mlt1RKbu24A9",
        "outputId": "adbb8ddd-40a5-4e1b-a55c-dccd8b9d9983"
      },
      "execution_count": 52,
      "outputs": [
        {
          "output_type": "stream",
          "name": "stdout",
          "text": [
            "아메리카노:3100\n",
            "플랫 화이트:4100\n",
            "화이트 초콜릿 모카:4600\n"
          ]
        }
      ]
    },
    {
      "cell_type": "code",
      "source": [
        "numbers = [[1,2,3], [4,5,6]]\n",
        "\n",
        "for row in numbers:\n",
        "    total = 0\n",
        "    for x in row:\n",
        "        total = total + x\n",
        "    print(total)"
      ],
      "metadata": {
        "colab": {
          "base_uri": "https://localhost:8080/"
        },
        "id": "rMWEgDNU3UwC",
        "outputId": "f9491e0e-0910-4a40-fa7f-07afa489bb4b"
      },
      "execution_count": 53,
      "outputs": [
        {
          "output_type": "stream",
          "name": "stdout",
          "text": [
            "6\n",
            "15\n"
          ]
        }
      ]
    },
    {
      "cell_type": "code",
      "source": [
        "menu = {\n",
        "    \"오늘의 커피\": 2800,\n",
        "    \"아메리카노\": 3100,\n",
        "    \"카푸치노\": 3600,\n",
        "    \"화이트 초콜릿 모카\": 4600,\n",
        "    \"플랫 화이트\": 4100,\n",
        "}\n",
        "\n",
        "my_order = {\n",
        "    \"플랫 화이트\": 2,\n",
        "    \"화이트 초콜릿 모카\": 1,\n",
        "}\n",
        "\n",
        "for x in my_order:\n",
        "    price = menu[x]\n",
        "    qty = my_order[x]\n",
        "    total = price * qty\n",
        "    print(x + \"\" + str(qty) + \"잔, 합계:\" + str(total))"
      ],
      "metadata": {
        "colab": {
          "base_uri": "https://localhost:8080/"
        },
        "id": "5msV0w1L5HUS",
        "outputId": "060df248-a7cf-44c6-b605-d6441b8fa3bd"
      },
      "execution_count": 55,
      "outputs": [
        {
          "output_type": "stream",
          "name": "stdout",
          "text": [
            "플랫 화이트2잔, 합계:8200\n",
            "화이트 초콜릿 모카1잔, 합계:4600\n"
          ]
        }
      ]
    },
    {
      "cell_type": "code",
      "source": [
        "# 함수 만들기\n",
        "def print_names():\n",
        "    print(\"커피 장인\")\n",
        "    print(\"여의도 본점\")\n",
        "\n",
        "print_names()"
      ],
      "metadata": {
        "colab": {
          "base_uri": "https://localhost:8080/"
        },
        "id": "y8ukL0Wi6JK7",
        "outputId": "8147e0da-e339-4fda-d36d-d333bbad1b1f"
      },
      "execution_count": 56,
      "outputs": [
        {
          "output_type": "stream",
          "name": "stdout",
          "text": [
            "커피 장인\n",
            "여의도 본점\n"
          ]
        }
      ]
    },
    {
      "cell_type": "code",
      "source": [
        "def get_shop_name():\n",
        "    return \"커피 장인\"\n",
        "\n",
        "print(get_shop_name())\n",
        "\n",
        "print(\"-\"*10)\n",
        "\n",
        "def get_shop_name():\n",
        "    return \"커피 장인\"\n",
        "\n",
        "def get_branch_name():\n",
        "    return \"여의도 본점\"\n",
        "\n",
        "def print_names():\n",
        "    print(get_shop_name())\n",
        "    print(get_branch_name())\n",
        "\n",
        "print_names()"
      ],
      "metadata": {
        "colab": {
          "base_uri": "https://localhost:8080/"
        },
        "id": "Kx6sZzOe978y",
        "outputId": "59f51029-4dce-4cb7-b4b4-7c4cbff79591"
      },
      "execution_count": 59,
      "outputs": [
        {
          "output_type": "stream",
          "name": "stdout",
          "text": [
            "커피 장인\n",
            "----------\n",
            "커피 장인\n",
            "여의도 본점\n"
          ]
        }
      ]
    },
    {
      "cell_type": "code",
      "source": [
        "def no_return():\n",
        "    pass\n",
        "\n",
        "def no_return_value():\n",
        "    return\n",
        "\n",
        "print(no_return())\n",
        "print(no_return_value())"
      ],
      "metadata": {
        "colab": {
          "base_uri": "https://localhost:8080/"
        },
        "id": "G16s6UOt-t42",
        "outputId": "19bf05f0-59e5-49e2-9ead-b5525b121e53"
      },
      "execution_count": 60,
      "outputs": [
        {
          "output_type": "stream",
          "name": "stdout",
          "text": [
            "None\n",
            "None\n"
          ]
        }
      ]
    },
    {
      "cell_type": "code",
      "source": [
        "def add(x,y):\n",
        "    return x+y\n",
        "\n",
        "print(add(3,2))"
      ],
      "metadata": {
        "colab": {
          "base_uri": "https://localhost:8080/"
        },
        "id": "ZawiAy4i_qVn",
        "outputId": "b21f0a61-3177-4530-df64-26ed517d5e70"
      },
      "execution_count": 62,
      "outputs": [
        {
          "output_type": "stream",
          "name": "stdout",
          "text": [
            "5\n"
          ]
        }
      ]
    },
    {
      "cell_type": "code",
      "source": [
        "order_detail = []\n",
        "\n",
        "def make_order(name, qty):\n",
        "    order_detail.append({\"이름\":name, \"수량\":qty})\n",
        "\n",
        "print(order_detail)\n",
        "make_order(\"아메리카노\", 2)\n",
        "make_order(\"플랫 화이트\", 1)\n",
        "print(order_detail)\n",
        "\n",
        "print(\"-\"*10)\n",
        "\n",
        "numbers = [1,3,5,7,9]\n",
        "numbers.append(2)\n",
        "print(numbers)"
      ],
      "metadata": {
        "colab": {
          "base_uri": "https://localhost:8080/"
        },
        "id": "DrDFtmV8Ask6",
        "outputId": "17f1db12-aa68-4245-9c0a-073de71db99d"
      },
      "execution_count": 64,
      "outputs": [
        {
          "output_type": "stream",
          "name": "stdout",
          "text": [
            "[]\n",
            "[{'이름': '아메리카노', '수량': 2}, {'이름': '플랫 화이트', '수량': 1}]\n",
            "----------\n",
            "[1, 3, 5, 7, 9, 2]\n"
          ]
        }
      ]
    },
    {
      "cell_type": "code",
      "source": [
        "def no_return():\n",
        "    pass\n",
        "\n",
        "def no_return_value():\n",
        "    return\n",
        "\n",
        "print(no_return())\n",
        "print(no_return_value())"
      ],
      "metadata": {
        "colab": {
          "base_uri": "https://localhost:8080/"
        },
        "id": "CHGueOQZBiZp",
        "outputId": "82af4db2-4529-47a5-95cf-9c56aebcf6b9"
      },
      "execution_count": 65,
      "outputs": [
        {
          "output_type": "stream",
          "name": "stdout",
          "text": [
            "None\n",
            "None\n"
          ]
        }
      ]
    },
    {
      "cell_type": "code",
      "source": [
        "def print_elements(arg):\n",
        "    for x in arg:\n",
        "        print(x)\n",
        "\n",
        "print_elements([\"Sun\", \"is\", \"rising\"])"
      ],
      "metadata": {
        "colab": {
          "base_uri": "https://localhost:8080/"
        },
        "id": "mvejeCnEC1sh",
        "outputId": "fc70a66f-c1c3-4c06-f3a9-120f6f789040"
      },
      "execution_count": 66,
      "outputs": [
        {
          "output_type": "stream",
          "name": "stdout",
          "text": [
            "Sun\n",
            "is\n",
            "rising\n"
          ]
        }
      ]
    },
    {
      "cell_type": "code",
      "source": [
        "def power(base, exp):\n",
        "    return base ** exp\n",
        "\n",
        "print(power(3,2))\n",
        "print(power(10,-2))"
      ],
      "metadata": {
        "colab": {
          "base_uri": "https://localhost:8080/"
        },
        "id": "mHGeYHHUDB3R",
        "outputId": "bd3e0ba9-9ced-47ba-9e6f-4be7fe68fdf9"
      },
      "execution_count": 68,
      "outputs": [
        {
          "output_type": "stream",
          "name": "stdout",
          "text": [
            "9\n",
            "0.01\n"
          ]
        }
      ]
    },
    {
      "cell_type": "code",
      "source": [
        "def square(dataset):\n",
        "    result = []\n",
        "    for x in dataset:\n",
        "        result.append(x*x)\n",
        "    return result\n",
        "\n",
        "print(square([3,2,5]))\n",
        "print(square([323,60]))"
      ],
      "metadata": {
        "colab": {
          "base_uri": "https://localhost:8080/"
        },
        "id": "4GwhwOfoDMWw",
        "outputId": "26befda0-b9b7-4fe6-a21c-09bdff6ee110"
      },
      "execution_count": 70,
      "outputs": [
        {
          "output_type": "stream",
          "name": "stdout",
          "text": [
            "[9, 4, 25]\n",
            "[104329, 3600]\n"
          ]
        }
      ]
    },
    {
      "cell_type": "code",
      "source": [
        "def dict_to_list(dataset):\n",
        "    result = []\n",
        "    for x in dataset:\n",
        "        result.append([x, dataset[x]])\n",
        "    return result\n",
        "\n",
        "data = {\"my_key\": \"my_value\", \"your_key\": \"your_value\"}\n",
        "print(dict_to_list(data))"
      ],
      "metadata": {
        "colab": {
          "base_uri": "https://localhost:8080/"
        },
        "id": "2bzcYYt_DoU-",
        "outputId": "3638c4f9-ff2d-4b2f-bfdb-6a1bd27fbedf"
      },
      "execution_count": 71,
      "outputs": [
        {
          "output_type": "stream",
          "name": "stdout",
          "text": [
            "[['my_key', 'my_value'], ['your_key', 'your_value']]\n"
          ]
        }
      ]
    },
    {
      "cell_type": "code",
      "source": [
        "def count_down(number):\n",
        "    result = []\n",
        "    for x in range(number):\n",
        "        result.append(number - x)\n",
        "    return result\n",
        "\n",
        "print(count_down(10))"
      ],
      "metadata": {
        "colab": {
          "base_uri": "https://localhost:8080/"
        },
        "id": "Zw4YoINUEQw8",
        "outputId": "0b6820fd-f0b0-4e37-f4a3-1e140b292e94"
      },
      "execution_count": 72,
      "outputs": [
        {
          "output_type": "stream",
          "name": "stdout",
          "text": [
            "[10, 9, 8, 7, 6, 5, 4, 3, 2, 1]\n"
          ]
        }
      ]
    },
    {
      "cell_type": "code",
      "source": [
        "def is_odd_number(arg):\n",
        "    if arg % 2 == 1:\n",
        "        return True\n",
        "    return False\n",
        "\n",
        "print(is_odd_number(3))\n",
        "print(is_odd_number(2))"
      ],
      "metadata": {
        "colab": {
          "base_uri": "https://localhost:8080/"
        },
        "id": "5DAaUffHEiGE",
        "outputId": "e3df4f24-1f80-4973-fa07-dfec998c0cf8"
      },
      "execution_count": 74,
      "outputs": [
        {
          "output_type": "stream",
          "name": "stdout",
          "text": [
            "True\n",
            "False\n"
          ]
        }
      ]
    },
    {
      "cell_type": "code",
      "source": [
        "def get_bordered_str(arg):\n",
        "    result = \"\"\n",
        "    sep = \"*\"\n",
        "    length = len(arg)\n",
        "    result = result + (sep * (length + 4) + \"\\n\")\n",
        "    result = result + (sep + \"\" + arg + \"\" + sep +\"\\n\")\n",
        "    result = result + (sep * (length + 4))\n",
        "    return result\n",
        "\n",
        "print(get_bordered_str(\"Hello, World!\"))\n",
        "print(get_bordered_str(\"323\"))"
      ],
      "metadata": {
        "colab": {
          "base_uri": "https://localhost:8080/"
        },
        "id": "4OizStlqdZ-f",
        "outputId": "87d01db0-7c89-4ea1-9a84-bbf22a23ea98"
      },
      "execution_count": 75,
      "outputs": [
        {
          "output_type": "stream",
          "name": "stdout",
          "text": [
            "*****************\n",
            "*Hello, World!*\n",
            "*****************\n",
            "*******\n",
            "*323*\n",
            "*******\n"
          ]
        }
      ]
    },
    {
      "cell_type": "code",
      "source": [
        "def get_sum_and_average(arg):\n",
        "    length = len(arg)\n",
        "    if length == 0:\n",
        "        return \"[오류] 요소의 개수가 0 입니다.\"\n",
        "\n",
        "    total = 0\n",
        "    for x in arg:\n",
        "        total = total + x\n",
        "    return {\"합계\": total, \"평균\": total / length}\n",
        "\n",
        "print(get_sum_and_average([]))\n",
        "print(get_sum_and_average([3,2]))\n",
        "print(get_sum_and_average([-1, 0, 1, 2, 3]))"
      ],
      "metadata": {
        "colab": {
          "base_uri": "https://localhost:8080/"
        },
        "id": "Atq1cQ56fA1F",
        "outputId": "9dabc0e1-26df-489e-acc7-1b227769005f"
      },
      "execution_count": 76,
      "outputs": [
        {
          "output_type": "stream",
          "name": "stdout",
          "text": [
            "[오류] 요소의 개수가 0 입니다.\n",
            "{'합계': 5, '평균': 2.5}\n",
            "{'합계': 5, '평균': 1.0}\n"
          ]
        }
      ]
    },
    {
      "cell_type": "code",
      "source": [
        "def convert_seconds(arg):\n",
        "    if arg < 60:\n",
        "        #60초 미만이라면, 초만 출력\n",
        "        return str(arg) + \"초\"\n",
        "\n",
        "    seconds = arg % 60\n",
        "    minutes = arg //60\n",
        "    if minutes < 60:\n",
        "        #60분 미만이라면, 분과 초를 출력\n",
        "        return str(minutes) + \"분\" + str(seconds) + \"초\"\n",
        "\n",
        "    #그 외의 경우, 시간, 분, 초를 출력\n",
        "    hours = minutes // 60\n",
        "    minutes = minutes % 60\n",
        "    return str(hours) + \"시간\" + str(minutes) + \"분\" + str(seconds) + \"초\"\n",
        "\n",
        "print(convert_seconds(3))\n",
        "print(convert_seconds(60))\n",
        "print(convert_seconds(323))\n",
        "print(convert_seconds(60*60+323*2))"
      ],
      "metadata": {
        "colab": {
          "base_uri": "https://localhost:8080/"
        },
        "id": "NXs8HjwMf5jz",
        "outputId": "aeb63628-b0cb-4667-c136-5addb78bca89"
      },
      "execution_count": 77,
      "outputs": [
        {
          "output_type": "stream",
          "name": "stdout",
          "text": [
            "3초\n",
            "1분0초\n",
            "5분23초\n",
            "1시간10분46초\n"
          ]
        }
      ]
    },
    {
      "cell_type": "code",
      "source": [
        "def is_odd(arg):\n",
        "    if arg % 2 == 1:\n",
        "        return True\n",
        "    return False\n",
        "\n",
        "print(is_odd(3))\n",
        "print(is_odd(2))"
      ],
      "metadata": {
        "colab": {
          "base_uri": "https://localhost:8080/"
        },
        "id": "V62URkqth-4f",
        "outputId": "75f67600-d3a2-4dba-dd43-ba28b76c33ec"
      },
      "execution_count": 78,
      "outputs": [
        {
          "output_type": "stream",
          "name": "stdout",
          "text": [
            "True\n",
            "False\n"
          ]
        }
      ]
    },
    {
      "cell_type": "code",
      "source": [
        "def get_sum_of_two_numbers(start, end):\n",
        "    result = 0\n",
        "    for x in range(start, end+1):\n",
        "        result = result + x\n",
        "    return result\n",
        "\n",
        "print(get_sum_of_two_numbers(1, 10))\n",
        "print(get_sum_of_two_numbers(1, 100))"
      ],
      "metadata": {
        "colab": {
          "base_uri": "https://localhost:8080/"
        },
        "id": "ImkzfjGTiOdt",
        "outputId": "43d9b08b-2d45-4fee-ae13-55a911f7bb9a"
      },
      "execution_count": 79,
      "outputs": [
        {
          "output_type": "stream",
          "name": "stdout",
          "text": [
            "55\n",
            "5050\n"
          ]
        }
      ]
    },
    {
      "cell_type": "code",
      "source": [
        "def print_hashes(rows):\n",
        "    for x in range(rows):\n",
        "        print(\"#\" * (x+1))\n",
        "\n",
        "print_hashes(3)"
      ],
      "metadata": {
        "colab": {
          "base_uri": "https://localhost:8080/"
        },
        "id": "aqRR7fqLivb9",
        "outputId": "74ed68e5-81ff-4d9e-adfe-9a0db43bee34"
      },
      "execution_count": 80,
      "outputs": [
        {
          "output_type": "stream",
          "name": "stdout",
          "text": [
            "#\n",
            "##\n",
            "###\n"
          ]
        }
      ]
    },
    {
      "cell_type": "code",
      "source": [
        "def print_reverse_hashes(rows):\n",
        "    for x in range(rows) :\n",
        "        count = x+1\n",
        "        print(\" \" * (rows - count) + \"#\" * count)\n",
        "\n",
        "print_reverse_hashes(4)"
      ],
      "metadata": {
        "colab": {
          "base_uri": "https://localhost:8080/"
        },
        "id": "tZsBWI2DjK7y",
        "outputId": "634bbab5-6041-446c-a8e4-01824f4f2bea"
      },
      "execution_count": 81,
      "outputs": [
        {
          "output_type": "stream",
          "name": "stdout",
          "text": [
            "   #\n",
            "  ##\n",
            " ###\n",
            "####\n"
          ]
        }
      ]
    },
    {
      "cell_type": "code",
      "source": [
        "def replace_digits(str_):\n",
        "    return str_[:9] + \"****\"\n",
        "\n",
        "print(replace_digits(\"010-1234-5678\"))\n",
        "print(replace_digits(\"010-9876-5432\"))"
      ],
      "metadata": {
        "colab": {
          "base_uri": "https://localhost:8080/"
        },
        "id": "7sdk1qiDjl_D",
        "outputId": "b1f1e89a-7c7d-4170-9e04-1644f587b236"
      },
      "execution_count": 82,
      "outputs": [
        {
          "output_type": "stream",
          "name": "stdout",
          "text": [
            "010-1234-****\n",
            "010-9876-****\n"
          ]
        }
      ]
    },
    {
      "cell_type": "code",
      "source": [],
      "metadata": {
        "id": "Jh7yDAgVksD8"
      },
      "execution_count": null,
      "outputs": []
    }
  ]
}